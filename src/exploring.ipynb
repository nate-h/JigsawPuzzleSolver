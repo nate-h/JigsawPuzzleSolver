{
 "cells": [
  {
   "cell_type": "markdown",
   "metadata": {},
   "source": [
    "# Rapid Exploration"
   ]
  },
  {
   "cell_type": "code",
   "execution_count": null,
   "metadata": {},
   "outputs": [],
   "source": [
    "%matplotlib inline\n",
    "#%matplotlib notebook"
   ]
  },
  {
   "cell_type": "code",
   "execution_count": null,
   "metadata": {},
   "outputs": [],
   "source": [
    "import numpy as np\n",
    "import matplotlib.pyplot as plt\n",
    "import matplotlib.image as mpimg\n",
    "from IPython.display import Image\n",
    "from sklearn.cluster import KMeans\n",
    "import  PIL\n",
    "import cv2 as cv\n",
    "from scipy import ndimage, misc\n",
    "import cv2"
   ]
  },
  {
   "cell_type": "code",
   "execution_count": null,
   "metadata": {},
   "outputs": [],
   "source": [
    "IMAGE_PATH = '../data/images/green_screen_ordered.jpg'"
   ]
  },
  {
   "cell_type": "code",
   "execution_count": null,
   "metadata": {},
   "outputs": [],
   "source": [
    "plt.rcParams['figure.figsize'] = [15, 15]"
   ]
  },
  {
   "cell_type": "markdown",
   "metadata": {},
   "source": [
    "## Load example image and display it"
   ]
  },
  {
   "cell_type": "code",
   "execution_count": null,
   "metadata": {},
   "outputs": [],
   "source": [
    "Image(IMAGE_PATH, width=500)"
   ]
  },
  {
   "cell_type": "markdown",
   "metadata": {},
   "source": [
    "# Convert to hsv"
   ]
  },
  {
   "cell_type": "code",
   "execution_count": null,
   "metadata": {},
   "outputs": [],
   "source": [
    "img = cv.imread(IMAGE_PATH)\n",
    "hsv = cv.cvtColor(img, cv.COLOR_BGR2HSV)"
   ]
  },
  {
   "cell_type": "code",
   "execution_count": null,
   "metadata": {},
   "outputs": [],
   "source": [
    "hist = cv.calcHist([hsv], [0,1], None, [180, 256], [0,180,0,256])\n",
    "plt.plot(hist, color='k')\n",
    "plt.show()"
   ]
  },
  {
   "cell_type": "code",
   "execution_count": null,
   "metadata": {},
   "outputs": [],
   "source": [
    "for i, col in enumerate(['b', 'g', 'r']):\n",
    "    hist = cv.calcHist([img], [i], None, [256], [0, 256])\n",
    "    plt.plot(hist, color = col)\n",
    "    plt.xlim([0, 256])\n",
    "    \n",
    "plt.show()"
   ]
  },
  {
   "cell_type": "markdown",
   "metadata": {},
   "source": [
    "## Histogram to try to isolate green screen"
   ]
  },
  {
   "cell_type": "code",
   "execution_count": null,
   "metadata": {},
   "outputs": [],
   "source": [
    "def show_img_compar(img_1, img_2 ):\n",
    "    f, ax = plt.subplots(1, 2, figsize=(10,10))\n",
    "    ax[0].imshow(img_1)\n",
    "    ax[1].imshow(img_2)\n",
    "    ax[0].axis('off') #hide the axis\n",
    "    ax[1].axis('off')\n",
    "    f.tight_layout()\n",
    "    plt.show()"
   ]
  },
  {
   "cell_type": "code",
   "execution_count": null,
   "metadata": {},
   "outputs": [],
   "source": [
    "def palette(clusters):\n",
    "    width=300\n",
    "    palette = np.zeros((50, width, 3), np.uint8)\n",
    "    steps = width/clusters.cluster_centers_.shape[0]\n",
    "    for idx, centers in enumerate(clusters.cluster_centers_): \n",
    "        palette[:, int(idx*steps):(int((idx+1)*steps)), :] = centers\n",
    "    return palette\n",
    "\n",
    "clt_3 = KMeans(n_clusters=3)\n",
    "clt_3.fit(img.reshape(-1, 3))\n",
    "show_img_compar(img, palette(clt_3))"
   ]
  },
  {
   "cell_type": "markdown",
   "metadata": {},
   "source": [
    "# Green screening"
   ]
  },
  {
   "cell_type": "code",
   "execution_count": null,
   "metadata": {},
   "outputs": [],
   "source": [
    "src = cv.imread(IMAGE_PATH)\n",
    "imgRGB = cv.cvtColor(src, cv.COLOR_BGR2RGB)\n",
    "imgHSV = cv.cvtColor(imgRGB, cv.COLOR_BGR2HSV)\n",
    "\n",
    "imgRGB = ndimage.rotate(imgRGB, 90)\n",
    "imgHSV = ndimage.rotate(imgHSV, 90)"
   ]
  },
  {
   "cell_type": "code",
   "execution_count": null,
   "metadata": {},
   "outputs": [],
   "source": [
    "hist = cv.calcHist([imgHSV], [0,1], None, [180, 256], [0,180,0,256])\n",
    "plt.plot(hist, color='k')\n",
    "plt.show()"
   ]
  },
  {
   "cell_type": "code",
   "execution_count": null,
   "metadata": {},
   "outputs": [],
   "source": [
    "for i, val in enumerate(np.max(hist[30:60,:], axis=1)):\n",
    "    print(f\"{30+i}: {val}\")"
   ]
  },
  {
   "cell_type": "code",
   "execution_count": null,
   "metadata": {
    "scrolled": false
   },
   "outputs": [],
   "source": [
    "plt.rcParams['figure.figsize'] = [15, 12]\n",
    "\n",
    "lower = np.array([35, 50, 0])    #Lower values of HSV range; Green have Hue value equal 120, but in opencv Hue range is smaler [0-180]\n",
    "upper = np.array([52, 255, 255])  #Uppervalues of HSV range\n",
    "imgRange = cv.inRange(imgHSV, lower, upper)\n",
    "flipMaskImg = cv.bitwise_not(imgRange)\n",
    "\n",
    "# Adjust the range threshold.\n",
    "alteredMask = np.array(flipMaskImg, copy=True)\n",
    "alteredMask = cv.dilate(alteredMask, np.ones((3,3),np.uint8), 1)\n",
    "alteredMask = cv.erode(alteredMask, np.ones((3,3),np.uint8), 1)\n",
    "\n",
    "alteredMask = cv.bitwise_not(alteredMask)\n",
    "\n",
    "# Construct masked images.\n",
    "rawMaskApplied = cv.bitwise_and(imgRGB, imgRGB, mask = imgRange)\n",
    "alteredMaskApplied = cv.bitwise_and(imgRGB, imgRGB, mask = alteredMask)\n",
    "\n",
    "# Generate rough contours.\n",
    "contourImg = np.array(alteredMaskApplied, copy=True)\n",
    "contours, hierarchy = cv.findContours(alteredMask, cv.RETR_TREE, cv.CHAIN_APPROX_SIMPLE)\n",
    "\n",
    "# Filter out contours too big or small.\n",
    "med = np.median([cv.contourArea(c) for c in contours])\n",
    "contours_trimmed = []\n",
    "for c in contours:\n",
    "    con_area = cv.contourArea(c)\n",
    "    if con_area < 2*med and con_area > 0.5*med:\n",
    "        contours_trimmed.append(c)\n",
    "\n",
    "cv.drawContours(contourImg, contours_trimmed, -1, (0,255,0), 3)\n",
    "\n",
    "print(len(contours_trimmed))\n",
    "\n",
    "\n",
    "plt.figure(1)\n",
    "\n",
    "ax1 = plt.subplot(221)\n",
    "plt.imshow(alteredMaskApplied)\n",
    "ax1.title.set_text('alteredMaskApplied')\n",
    "\n",
    "\n",
    "ax2 = plt.subplot(222)\n",
    "plt.imshow(contourImg)\n",
    "ax2.title.set_text('contourImg')\n",
    "\n",
    "ax3 = plt.subplot(223)\n",
    "plt.imshow(rawMaskApplied)\n",
    "ax3.title.set_text('rawMaskApplied')\n",
    "\n",
    "ax4 = plt.subplot(224)\n",
    "plt.imshow(imgRGB)\n",
    "ax4.title.set_text('imgRGB')\n",
    "\n",
    "plt.show()\n"
   ]
  },
  {
   "cell_type": "markdown",
   "metadata": {},
   "source": [
    "\n",
    "# Finding points"
   ]
  },
  {
   "cell_type": "code",
   "execution_count": null,
   "metadata": {},
   "outputs": [],
   "source": [
    "labeledPieces = np.copy(contourImg)\n",
    "\n",
    "\n",
    "for (i,c) in enumerate(contours_trimmed):\n",
    "    M= cv2.moments(c)\n",
    "    cx= int(M['m10']/M['m00'])\n",
    "    cy= int(M['m01']/M['m00'])\n",
    "    cv2.putText(labeledPieces, text= str(i+1), org=(cx-20,cy+10),\n",
    "            fontFace= cv2.FONT_HERSHEY_SIMPLEX, fontScale=0.8, color=(255,0,255),\n",
    "            thickness=2, lineType=cv2.LINE_AA)\n",
    "\n",
    "plt.imshow(labeledPieces)\n",
    "plt.show()"
   ]
  },
  {
   "cell_type": "markdown",
   "metadata": {},
   "source": [
    "# Analyzing contour output"
   ]
  },
  {
   "cell_type": "code",
   "execution_count": null,
   "metadata": {},
   "outputs": [],
   "source": [
    "# How deep it goes\n",
    "contours_trimmed[0][0][0][1]"
   ]
  },
  {
   "cell_type": "code",
   "execution_count": null,
   "metadata": {},
   "outputs": [],
   "source": [
    "# What the dimensions mean\n",
    "# contours_trimmed[0][0][0][1]\n",
    "# 63 length pieces, 244 points for piece 0, [x, y dim]\n",
    "contours_trimmed[0][0]"
   ]
  },
  {
   "cell_type": "code",
   "execution_count": null,
   "metadata": {},
   "outputs": [],
   "source": [
    "# Top and bottom 5 number of points in contours\n",
    "s = sorted([len(c) for c in contours_trimmed])\n",
    "s[0:5] + s[-6: -1]"
   ]
  },
  {
   "cell_type": "markdown",
   "metadata": {},
   "source": [
    "# Find bounding boxes of contours"
   ]
  },
  {
   "cell_type": "code",
   "execution_count": null,
   "metadata": {},
   "outputs": [],
   "source": [
    "rects = [cv.boundingRect(cnt) for cnt in contours_trimmed]\n",
    "# pushes tuples of (x,y,w,h)\n",
    "\n",
    "# Let's expand rects.\n",
    "rects = [(x-10, y-10, w + 20, h + 20) for (x,y,w,h) in rects]\n",
    "\n",
    "rects[0:3]"
   ]
  },
  {
   "cell_type": "code",
   "execution_count": null,
   "metadata": {},
   "outputs": [],
   "source": [
    "imageLabeledWRects = np.copy(labeledPieces)\n",
    "for (x,y,w,h) in rects:\n",
    "    cv.rectangle(imageLabeledWRects,(x,y),(x+w,y+h),(255,100,0),2)\n",
    "plt.imshow(imageLabeledWRects)\n",
    "plt.show()"
   ]
  },
  {
   "cell_type": "markdown",
   "metadata": {},
   "source": [
    "# Contour to polygon explorer\n",
    "\n",
    "* Corner: 3\n",
    "* Edge: 26, 58\n",
    "* Center pieces: 14, 31, 38, 45, 48\n",
    "\n",
    "TODO:\n",
    "Create 4 image plot that takes contour index and displays:\n",
    "* untouched puzzle piece\n",
    "* 3 other images with unique epsilons"
   ]
  },
  {
   "cell_type": "markdown",
   "metadata": {},
   "source": [
    "### Let's try to extract a puzzle pieces and show it"
   ]
  },
  {
   "cell_type": "code",
   "execution_count": null,
   "metadata": {},
   "outputs": [],
   "source": [
    "x, y, w, h = rects[0]\n",
    "\n",
    "piece = labeledPieces[y:y+h, x:x+w, :]\n",
    "\n",
    "plt.imshow(piece)\n",
    "plt.show()"
   ]
  },
  {
   "cell_type": "code",
   "execution_count": null,
   "metadata": {},
   "outputs": [],
   "source": [
    "index = 0\n",
    "pieces = [3,   26, 58,    14, 31, 38, 45, 48]\n",
    "\n",
    "\n",
    "def renderPiecePolys(index):\n",
    "    pieceIndex = pieces[index]\n",
    "\n",
    "    pieceContour, (x,y,w,h) = contours_trimmed[pieceIndex], rects[pieceIndex]\n",
    "    lenContour = cv2.arcLength(pieceContour, True)\n",
    "    piece = labeledPieces[y:y+h, x:x+w, :]\n",
    "\n",
    "\n",
    "    plt.figure(1)\n",
    "\n",
    "    ax1 = plt.subplot(231)\n",
    "    plt.imshow(piece)\n",
    "    ax1.title.set_text(f'Default image - Points: {len(pieceContour)}')\n",
    "\n",
    "    levels = [.005, .01, .02, .03, .05]\n",
    "    count = 0\n",
    "    for i, ep in enumerate(levels):\n",
    "        sp = 232 + i\n",
    "        ax = plt.subplot(sp)\n",
    "        approxContour = cv2.approxPolyDP(pieceContour, ep * lenContour, True)\n",
    "        subPiece = np.copy(piece)\n",
    "        subPiece = cv2.drawContours(subPiece, [approxContour], 0, (255,0,255), offset = (-x,-y))\n",
    "        ax.imshow(subPiece)\n",
    "        ax.title.set_text(f'Epsilon percent: {ep} - Points: {len(approxContour)}')\n",
    "        count += 1\n",
    "\n",
    "    plt.show()\n"
   ]
  },
  {
   "cell_type": "code",
   "execution_count": null,
   "metadata": {},
   "outputs": [],
   "source": [
    "renderPiecePolys(2)"
   ]
  },
  {
   "cell_type": "code",
   "execution_count": null,
   "metadata": {},
   "outputs": [],
   "source": []
  },
  {
   "cell_type": "code",
   "execution_count": null,
   "metadata": {},
   "outputs": [],
   "source": []
  }
 ],
 "metadata": {
  "kernelspec": {
   "display_name": "JigsawPuzzleSolver",
   "language": "python",
   "name": "jigsawpuzzlesolver"
  },
  "language_info": {
   "codemirror_mode": {
    "name": "ipython",
    "version": 3
   },
   "file_extension": ".py",
   "mimetype": "text/x-python",
   "name": "python",
   "nbconvert_exporter": "python",
   "pygments_lexer": "ipython3",
   "version": "3.6.9"
  }
 },
 "nbformat": 4,
 "nbformat_minor": 4
}
